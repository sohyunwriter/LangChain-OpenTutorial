{
 "cells": [
  {
   "cell_type": "markdown",
   "id": "46198a85",
   "metadata": {},
   "source": [
    "# MultiQueryRetriever\n",
    "\n",
    "- Author: [hong-seongmin](https://github.com/hong-seongmin)\n",
    "- Design:\n",
    "- Peer Review:\n",
    "- This is a part of [LangChain OpenTutorial](https://github.com/LangChain-OpenTutorial/LangChain-OpenTutorial)\n",
    "\n",
    "[![Open in Colab](https://colab.research.google.com/assets/colab-badge.svg)](https://colab.research.google.com/github/LangChain-OpenTutorial/LangChain-OpenTutorial/blob/main/10-Retriever/06-MultiQueryRetriever.ipynb) [![Open in GitHub](https://img.shields.io/badge/Open%20in%20GitHub-181717?style=flat-square&logo=github&logoColor=white)](https://github.com/LangChain-OpenTutorial/LangChain-OpenTutorial/blob/main/10-Retriever/06-MultiQueryRetriever.ipynb)\n",
    "\n",
    "## Overview\n",
    "\n",
    "```MultiQueryRetriever``` offers a thoughtful approach to improving distance-based vector database retrieval by generating diverse queries with the help of an LLM.\n",
    "\n",
    "This method simplifies the retrieval process, minimizes the need for manual prompt adjustments, and aims to provide more nuanced and comprehensive results.\n",
    "\n",
    "- **Understanding Distance-Based Vector Search**  \n",
    "  Distance-based vector search is a technique that identifies documents with embeddings similar to a query embedding based on their 'distance' in a high-dimensional space. However, subtle variations in query details or embedding representations can occasionally make it challenging to fully capture the intended meaning, which might affect the search results.\n",
    "\n",
    "- **Streamlined Prompt Tuning**  \n",
    "  ```MultiQueryRetriever``` reduces the complexity of prompt tuning by utilizing an LLM to automatically generate multiple queries from different perspectives for a single input. This helps minimize the effort required for manual adjustments or prompt engineering.\n",
    "\n",
    "- **Broader Document Retrieval**  \n",
    "  Each generated query is used to perform a search, and the unique documents retrieved from all queries are combined. This approach helps uncover a wider range of potentially relevant documents, increasing the chances of retrieving valuable information.\n",
    "\n",
    "- **Improved Search Robustness**  \n",
    "  By exploring a question from multiple perspectives through diverse queries, ```MultiQueryRetriever``` addresses some of the limitations of distance-based searches. This approach can better account for nuanced differences and deeper meanings in the data, leading to more contextually relevant and well-rounded results.\n",
    "\n",
    "### Table of Contents\n",
    "\n",
    "- [Overview](#overview)\n",
    "- [Environment Setup](#environment-setup)\n",
    "- [Building a Vector Database](#building-a-vector-database)\n",
    "- [Usage](#usage)\n",
    "- [How to Use the LCEL Chain](#how-to-use-the-lcel-chain)\n",
    "\n",
    "### References\n",
    "\n",
    "- [LangChain Documentation: How to use the MultiQueryRetriever](https://python.langchain.com/docs/how_to/MultiQueryRetriever/)\n",
    "\n",
    "---\n"
   ]
  },
  {
   "cell_type": "markdown",
   "id": "acc9689c",
   "metadata": {},
   "source": [
    "## Environment Setup\n",
    "\n",
    "Set up the environment. You may refer to [Environment Setup](https://wikidocs.net/257836) for more details.\n",
    "\n",
    "**[Note]**\n",
    "\n",
    "- ```langchain-opentutorial``` is a package that provides a set of easy-to-use environment setup, useful functions and utilities for tutorials.\n",
    "- You can checkout the [```langchain-opentutorial```](https://github.com/LangChain-OpenTutorial/langchain-opentutorial-pypi) for more details.\n"
   ]
  },
  {
   "cell_type": "code",
   "execution_count": null,
   "id": "330d1c0a",
   "metadata": {},
   "outputs": [],
   "source": [
    "%%capture --no-stderr\n",
    "%pip install langchain-opentutorial"
   ]
  },
  {
   "cell_type": "code",
   "execution_count": 2,
   "id": "ef9fdc57",
   "metadata": {},
   "outputs": [],
   "source": [
    "# Install required packages\n",
    "from langchain_opentutorial import package\n",
    "\n",
    "package.install(\n",
    "    [\n",
    "        \"langchain\",\n",
    "        \"langchain_core\",\n",
    "        \"langchain_openai\",\n",
    "    ],\n",
    "    verbose=False,\n",
    "    upgrade=False,\n",
    ")"
   ]
  },
  {
   "cell_type": "code",
   "execution_count": 3,
   "id": "0a6a2728",
   "metadata": {},
   "outputs": [
    {
     "name": "stdout",
     "output_type": "stream",
     "text": [
      "Environment variables have been set successfully.\n"
     ]
    }
   ],
   "source": [
    "# Set environment variables\n",
    "from langchain_opentutorial import set_env\n",
    "\n",
    "set_env(\n",
    "    {\n",
    "        \"LANGCHAIN_TRACING_V2\": \"true\",\n",
    "        \"LANGCHAIN_ENDPOINT\": \"https://api.smith.langchain.com\",\n",
    "        \"LANGCHAIN_PROJECT\": \"06-Multi-Query-Retriever\",\n",
    "    }\n",
    ")"
   ]
  },
  {
   "cell_type": "markdown",
   "id": "8a8221e6",
   "metadata": {},
   "source": [
    "Alternatively, environment variables can also be set using a ```.env``` file.\n",
    "\n",
    "**[Note]**\n",
    "\n",
    "- This is not necessary if you've already set the environment variables in the previous step.\n"
   ]
  },
  {
   "cell_type": "code",
   "execution_count": 4,
   "id": "8ee62e07",
   "metadata": {},
   "outputs": [
    {
     "data": {
      "text/plain": [
       "True"
      ]
     },
     "execution_count": 4,
     "metadata": {},
     "output_type": "execute_result"
    }
   ],
   "source": [
    "# Configuration file to manage API keys as environment variables\n",
    "from dotenv import load_dotenv\n",
    "\n",
    "# Load API key information\n",
    "load_dotenv()"
   ]
  },
  {
   "cell_type": "markdown",
   "id": "d6c14b5b",
   "metadata": {},
   "source": [
    "## Building a Vector Database\n",
    "\n",
    "Vector databases enable efficient retrieval of relevant documents by embedding text data into a high-dimensional vector space.\n",
    "\n",
    "This example demonstrates creating a simple vector database using LangChain, which involves loading and splitting a document, generating embeddings with OpenAI, and performing a search query to retrieve contextually relevant information.\n"
   ]
  },
  {
   "cell_type": "code",
   "execution_count": 13,
   "id": "dae75cb3",
   "metadata": {},
   "outputs": [
    {
     "name": "stdout",
     "output_type": "stream",
     "text": [
      "Number of retrieved documents: 4\n",
      "Document #1:\n",
      "noteThese docs focus on the Python LangChain library. Head here for docs on the JavaScript LangChain library.\n",
      "Architecture​\n",
      "The LangChain framework consists of multiple open-source libraries. Read more in the\n",
      "Architecture page.\n",
      "----------------------------------------\n",
      "Document #2:\n",
      "LangChain is a framework for developing applications powered by large language models (LLMs).\n",
      "LangChain simplifies every stage of the LLM application lifecycle:\n",
      "----------------------------------------\n",
      "Document #3:\n",
      "However, these guides will help you quickly accomplish common tasks using chat models,\n",
      "vector stores, and other common LangChain components.\n",
      "Check out LangGraph-specific how-tos here.\n",
      "Conceptual guide​\n",
      "Introductions to all the key parts of LangChain you’ll need to know! Here you'll find high level explanations of all LangChain concepts.\n",
      "For a deeper dive into LangGraph concepts, check out this page.\n",
      "Integrations​\n",
      "----------------------------------------\n",
      "Document #4:\n",
      "langgraph: Orchestration framework for combining LangChain components into production-ready applications with persistence, streaming, and other key features. See LangGraph documentation.\n",
      "----------------------------------------\n"
     ]
    }
   ],
   "source": [
    "# Build a sample vector DB\n",
    "from langchain_community.document_loaders import WebBaseLoader\n",
    "from langchain.vectorstores import FAISS\n",
    "from langchain_openai import OpenAIEmbeddings\n",
    "from langchain_text_splitters import RecursiveCharacterTextSplitter\n",
    "\n",
    "# Load a blog post\n",
    "loader = WebBaseLoader(\n",
    "    \"https://python.langchain.com/docs/introduction/\", encoding=\"utf-8\"\n",
    ")\n",
    "\n",
    "# Split documents\n",
    "text_splitter = RecursiveCharacterTextSplitter(chunk_size=500, chunk_overlap=0)\n",
    "docs = loader.load_and_split(text_splitter)\n",
    "\n",
    "# Define embedding\n",
    "openai_embedding = OpenAIEmbeddings()\n",
    "\n",
    "# Create the vector DB\n",
    "db = FAISS.from_documents(docs, openai_embedding)\n",
    "\n",
    "# Create a retriever\n",
    "retriever = db.as_retriever()\n",
    "\n",
    "# Document search\n",
    "query = \"Please explain the key features and architecture of the LangChain framework.\"\n",
    "relevant_docs = retriever.invoke(query)\n",
    "\n",
    "# Print the number of retrieved documents\n",
    "print(f\"Number of retrieved documents: {len(relevant_docs)}\")\n",
    "\n",
    "# Print each document with its number\n",
    "for idx, doc in enumerate(relevant_docs, start=1):\n",
    "    print(f\"Document #{idx}:\\n{doc.page_content}\\n{'-'*40}\")\n"
   ]
  },
  {
   "cell_type": "markdown",
   "id": "f8f3224e",
   "metadata": {},
   "source": [
    "## Usage\n",
    "\n",
    "Simply specify the LLM to be used in ```MultiQueryRetriever``` and pass the query, and the retriever will handle the rest.\n"
   ]
  },
  {
   "cell_type": "code",
   "execution_count": 12,
   "id": "1637815b",
   "metadata": {},
   "outputs": [],
   "source": [
    "from langchain.retrievers.multi_query import MultiQueryRetriever\n",
    "from langchain_openai import ChatOpenAI\n",
    "\n",
    "\n",
    "# Initialize the ChatOpenAI language model with temperature set to 0.\n",
    "llm = ChatOpenAI(temperature=0, model=\"gpt-4o-mini\")\n",
    "\n",
    "multiquery_retriever = MultiQueryRetriever.from_llm(  # Initialize the MultiQueryRetriever using the language model.\n",
    "    # Pass the vector database retriever and the language model.\n",
    "    retriever=db.as_retriever(),\n",
    "    llm=llm,\n",
    ")"
   ]
  },
  {
   "cell_type": "markdown",
   "id": "bbd0b647",
   "metadata": {},
   "source": [
    "Below is code that you can run to debug the intermediate process of generating multiple queries.\n",
    "\n",
    "First, we retrieve the ```langchain.retrievers.multi_query``` logger.\n",
    "\n",
    "This is done using the ```logging.getLogger``` method. Then, we set the logger's log level to ```INFO```, so that only log messages at the ```INFO``` level or above are printed.\n"
   ]
  },
  {
   "cell_type": "code",
   "execution_count": 7,
   "id": "901d1749",
   "metadata": {},
   "outputs": [],
   "source": [
    "# Logging settings for the query\n",
    "import logging\n",
    "\n",
    "logging.basicConfig()\n",
    "logging.getLogger(\"langchain.retrievers.multi_query\").setLevel(logging.INFO)"
   ]
  },
  {
   "cell_type": "markdown",
   "id": "dfda8ebb",
   "metadata": {},
   "source": [
    "This code uses the ```invoke``` method of the ```retriever_from_llm``` object to search for documents relevant to the given ```question```.\n",
    "\n",
    "The retrieved documents are stored in the variable ```relevant_docs```, and checking the length of this variable lets you see how many relevant documents were found.\n",
    "\n",
    "Through this process, you can effectively locate information related to the user's question and assess how much of it is available.\n"
   ]
  },
  {
   "cell_type": "code",
   "execution_count": 8,
   "id": "e2e305f8",
   "metadata": {},
   "outputs": [
    {
     "name": "stderr",
     "output_type": "stream",
     "text": [
      "INFO:langchain.retrievers.multi_query:Generated queries: ['What are the main components and architectural design of the LangChain framework?', 'Can you describe the essential characteristics and structure of the LangChain framework?', 'What are the significant features and the underlying architecture of the LangChain framework?']\n"
     ]
    },
    {
     "name": "stdout",
     "output_type": "stream",
     "text": [
      "===============\n",
      "Number of retrieved documents: 6\n",
      "===============\n",
      "noteThese docs focus on the Python LangChain library. Head here for docs on the JavaScript LangChain library.\n",
      "Architecture​\n",
      "The LangChain framework consists of multiple open-source libraries. Read more in the\n",
      "Architecture page.\n"
     ]
    }
   ],
   "source": [
    "# Define the question\n",
    "question = \"Please explain the key features and architecture of the LangChain framework.\"\n",
    "# Document search\n",
    "relevant_docs = multiquery_retriever.invoke(question)\n",
    "\n",
    "# Return the number of unique documents retrieved.\n",
    "print(\n",
    "    f\"===============\\nNumber of retrieved documents: {len(relevant_docs)}\",\n",
    "    end=\"\\n===============\\n\",\n",
    ")\n",
    "\n",
    "# Print the content of the retrieved documents.\n",
    "print(relevant_docs[0].page_content)"
   ]
  },
  {
   "cell_type": "markdown",
   "id": "81695892",
   "metadata": {},
   "source": [
    "## How to Use the LCEL Chain\n",
    "\n",
    "- Define a custom prompt, then create a ```Chain``` with that prompt.\n",
    "- When the ```Chain``` receives a user question (in the following example), it generates 5 questions, and returns the 5 generated questions separated by '\\n'.\n"
   ]
  },
  {
   "cell_type": "code",
   "execution_count": 9,
   "id": "0ab98687",
   "metadata": {},
   "outputs": [
    {
     "name": "stdout",
     "output_type": "stream",
     "text": [
      "What are the main components and structure of the LangChain framework?  \n",
      "Can you describe the architecture and essential characteristics of LangChain?  \n",
      "What are the significant features and design elements of the LangChain framework?  \n",
      "How is the LangChain framework structured, and what are its key functionalities?  \n",
      "Could you provide an overview of the LangChain framework's architecture and its primary features?  \n"
     ]
    }
   ],
   "source": [
    "from langchain_core.runnables import RunnablePassthrough\n",
    "from langchain_core.prompts import PromptTemplate\n",
    "from langchain_core.output_parsers import StrOutputParser\n",
    "\n",
    "# Define the prompt template (written to generate 5 questions)\n",
    "prompt = PromptTemplate.from_template(\n",
    "    \"\"\"You are an AI language model assistant. \n",
    "Your task is to generate five different versions of the given user question to retrieve relevant documents from a vector database. \n",
    "By generating multiple perspectives on the user question, your goal is to help the user overcome some of the limitations of the distance-based similarity search. \n",
    "Your response should be a list of values separated by new lines, eg: `foo\\nbar\\nbaz\\n`\n",
    "\n",
    "#ORIGINAL QUESTION: \n",
    "{question}\n",
    "\n",
    "#Answer in English:\n",
    "\"\"\"\n",
    ")\n",
    "\n",
    "# Create an instance of the language model.\n",
    "llm = ChatOpenAI(temperature=0, model=\"gpt-4o-mini\")\n",
    "\n",
    "# Create the LLMChain.\n",
    "custom_multiquery_chain = (\n",
    "    {\"question\": RunnablePassthrough()} | prompt | llm | StrOutputParser()\n",
    ")\n",
    "\n",
    "# Define the question.\n",
    "question = \"Please explain the key features and architecture of the LangChain framework.\"\n",
    "\n",
    "# Execute the chain and check the generated multiple queries.\n",
    "multi_queries = custom_multiquery_chain.invoke(question)\n",
    "# Check the result (5 generated questions)\n",
    "print(multi_queries)"
   ]
  },
  {
   "cell_type": "markdown",
   "id": "0c6403eb",
   "metadata": {},
   "source": [
    "You can pass the previously created ```Chain``` to the ```MultiQueryRetriever``` to perform retrieval.\n"
   ]
  },
  {
   "cell_type": "code",
   "execution_count": 10,
   "id": "5f3cac81",
   "metadata": {},
   "outputs": [],
   "source": [
    "multiquery_retriever = MultiQueryRetriever.from_llm(\n",
    "    llm=custom_multiquery_chain, retriever=db.as_retriever()\n",
    ")"
   ]
  },
  {
   "cell_type": "markdown",
   "id": "086076bb",
   "metadata": {},
   "source": [
    "Use the ```MultiQueryRetriever``` to search documents and check the results.\n"
   ]
  },
  {
   "cell_type": "code",
   "execution_count": 11,
   "id": "6eaffe30",
   "metadata": {},
   "outputs": [
    {
     "name": "stderr",
     "output_type": "stream",
     "text": [
      "INFO:langchain.retrievers.multi_query:Generated queries: ['What are the main characteristics and structure of the LangChain framework?  ', 'Can you describe the essential features and design of the LangChain framework?  ', 'Could you provide an overview of the key components and architecture of the LangChain framework?  ', 'What are the fundamental aspects and architectural elements of the LangChain framework?  ', 'Please outline the primary features and framework architecture of LangChain.']\n"
     ]
    },
    {
     "name": "stdout",
     "output_type": "stream",
     "text": [
      "===============\n",
      "Number of retrieved documents: 5\n",
      "===============\n",
      "LangChain is a framework for developing applications powered by large language models (LLMs).\n",
      "LangChain simplifies every stage of the LLM application lifecycle:\n"
     ]
    }
   ],
   "source": [
    "# Result\n",
    "relevant_docs = multiquery_retriever.invoke(question)\n",
    "\n",
    "# Return the number of unique documents retrieved.\n",
    "print(\n",
    "    f\"===============\\nNumber of retrieved documents: {len(relevant_docs)}\",\n",
    "    end=\"\\n===============\\n\",\n",
    ")\n",
    "\n",
    "# Print the content of the retrieved documents.\n",
    "print(relevant_docs[0].page_content)"
   ]
  }
 ],
 "metadata": {
  "kernelspec": {
   "display_name": "py-test",
   "language": "python",
   "name": "python3"
  },
  "language_info": {
   "codemirror_mode": {
    "name": "ipython",
    "version": 3
   },
   "file_extension": ".py",
   "mimetype": "text/x-python",
   "name": "python",
   "nbconvert_exporter": "python",
   "pygments_lexer": "ipython3",
   "version": "3.10.11"
  }
 },
 "nbformat": 4,
 "nbformat_minor": 5
}
